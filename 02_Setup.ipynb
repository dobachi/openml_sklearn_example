{
 "cells": [
  {
   "cell_type": "markdown",
   "metadata": {},
   "source": [
    "# 初期設定"
   ]
  },
  {
   "cell_type": "markdown",
   "metadata": {},
   "source": [
    "ライブラリインポートし、初期設定"
   ]
  },
  {
   "cell_type": "code",
   "execution_count": 1,
   "metadata": {},
   "outputs": [],
   "source": [
    "# License: BSD 3-Clause\n",
    "\n",
    "import openml\n",
    "from sklearn import neighbors\n",
    "\n",
    "openml.config.start_using_configuration_for_example()"
   ]
  },
  {
   "cell_type": "markdown",
   "metadata": {},
   "source": [
    "上記設定では、テストサーバにつながるようになっている。\n",
    "ちなみに、本番サーバに接続するには、\n",
    "\n",
    "```\n",
    "openml.config.apikey = 'YOURKEY'\n",
    "```\n",
    "\n",
    "とする。"
   ]
  },
  {
   "cell_type": "markdown",
   "metadata": {},
   "source": [
    "キャッシュを保持するパスを変更"
   ]
  },
  {
   "cell_type": "code",
   "execution_count": 6,
   "metadata": {},
   "outputs": [],
   "source": [
    "import os\n",
    "#openml.config.cache_directory = os.path.expanduser('YOURDIR')\n",
    "cwd = os.getcwd()\n",
    "cache_dir = os.path.join(cwd, \".openml/cache\")\n",
    "openml.config.cache_directory = cache_dir"
   ]
  },
  {
   "cell_type": "markdown",
   "metadata": {},
   "source": [
    "Task、Datasetを取得し、k-neighbor識別器でTaskを実行する。"
   ]
  },
  {
   "cell_type": "code",
   "execution_count": 7,
   "metadata": {},
   "outputs": [
    {
     "name": "stderr",
     "output_type": "stream",
     "text": [
      "[WARNING] [01:28:19:openml.extensions.sklearn.extension] Attributes not available in docstring\n"
     ]
    }
   ],
   "source": [
    "task = openml.tasks.get_task(403)\n",
    "data = openml.datasets.get_dataset(task.dataset_id)\n",
    "clf = neighbors.KNeighborsClassifier(n_neighbors=5)\n",
    "run = openml.runs.run_model_on_task(clf, task, avoid_duplicate_runs=False)"
   ]
  },
  {
   "cell_type": "code",
   "execution_count": 8,
   "metadata": {},
   "outputs": [
    {
     "name": "stdout",
     "output_type": "stream",
     "text": [
      "kNN on eeg-eye-state: http://test.openml.org/r/21822\n"
     ]
    }
   ],
   "source": [
    "myrun = run.publish()\n",
    "print(f\"kNN on {data.name}: http://test.openml.org/r/{myrun.run_id}\")"
   ]
  },
  {
   "cell_type": "markdown",
   "metadata": {},
   "source": [
    "上記ウェブサイトを開くと実行したRunの結果を確認できる。\n",
    "結果のメトリクスなども掲載されている。"
   ]
  },
  {
   "cell_type": "code",
   "execution_count": null,
   "metadata": {},
   "outputs": [],
   "source": []
  }
 ],
 "metadata": {
  "kernelspec": {
   "display_name": "Python 3",
   "language": "python",
   "name": "python3"
  },
  "language_info": {
   "codemirror_mode": {
    "name": "ipython",
    "version": 3
   },
   "file_extension": ".py",
   "mimetype": "text/x-python",
   "name": "python",
   "nbconvert_exporter": "python",
   "pygments_lexer": "ipython3",
   "version": "3.7.5"
  }
 },
 "nbformat": 4,
 "nbformat_minor": 2
}
